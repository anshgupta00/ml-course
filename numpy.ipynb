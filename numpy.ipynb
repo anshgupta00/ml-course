{
 "cells": [
  {
   "cell_type": "code",
   "execution_count": 2,
   "id": "05fac34b-2f64-462b-a30a-406c1c01feff",
   "metadata": {},
   "outputs": [],
   "source": [
    "import numpy as np"
   ]
  },
  {
   "cell_type": "code",
   "execution_count": 3,
   "id": "281f873d-b97a-4434-9395-5515bc869338",
   "metadata": {},
   "outputs": [
    {
     "data": {
      "text/plain": [
       "array([1, 2, 3])"
      ]
     },
     "execution_count": 3,
     "metadata": {},
     "output_type": "execute_result"
    }
   ],
   "source": [
    "a1= np.array([1,2,3])\n",
    "a1"
   ]
  },
  {
   "cell_type": "code",
   "execution_count": 5,
   "id": "8136b012-c34b-43e7-ab95-4279679888fc",
   "metadata": {},
   "outputs": [
    {
     "data": {
      "text/plain": [
       "numpy.ndarray"
      ]
     },
     "execution_count": 5,
     "metadata": {},
     "output_type": "execute_result"
    }
   ],
   "source": [
    "type(a1)"
   ]
  },
  {
   "cell_type": "code",
   "execution_count": 7,
   "id": "9d4fc1fa-8e57-4136-98e9-5d3480671d18",
   "metadata": {},
   "outputs": [
    {
     "data": {
      "text/plain": [
       "3"
      ]
     },
     "execution_count": 7,
     "metadata": {},
     "output_type": "execute_result"
    }
   ],
   "source": [
    "a1.size"
   ]
  },
  {
   "cell_type": "code",
   "execution_count": 8,
   "id": "a821fa8f-a8b4-41ee-8773-81e35a6ebb97",
   "metadata": {},
   "outputs": [
    {
     "data": {
      "text/plain": [
       "(3,)"
      ]
     },
     "execution_count": 8,
     "metadata": {},
     "output_type": "execute_result"
    }
   ],
   "source": [
    "a1.shape"
   ]
  },
  {
   "cell_type": "code",
   "execution_count": 9,
   "id": "a9d3caf2-0d7b-4998-937b-f10b13dd5aaa",
   "metadata": {},
   "outputs": [
    {
     "data": {
      "text/plain": [
       "1"
      ]
     },
     "execution_count": 9,
     "metadata": {},
     "output_type": "execute_result"
    }
   ],
   "source": [
    "a1.ndim"
   ]
  },
  {
   "cell_type": "code",
   "execution_count": 13,
   "id": "06c32479-2aa3-4bf0-b36c-1a7a798eb7e8",
   "metadata": {},
   "outputs": [],
   "source": [
    "a2=np.array([[2,3,4],[4,5,60]])"
   ]
  },
  {
   "cell_type": "code",
   "execution_count": 14,
   "id": "fe124c93-4d95-45b0-a5ab-5deac23085a5",
   "metadata": {},
   "outputs": [
    {
     "data": {
      "text/plain": [
       "array([[ 2,  3,  4],\n",
       "       [ 4,  5, 60]])"
      ]
     },
     "execution_count": 14,
     "metadata": {},
     "output_type": "execute_result"
    }
   ],
   "source": [
    "a2"
   ]
  },
  {
   "cell_type": "code",
   "execution_count": 15,
   "id": "95fc0940-3c23-4e30-9228-acb872ae21b9",
   "metadata": {},
   "outputs": [
    {
     "data": {
      "text/plain": [
       "6"
      ]
     },
     "execution_count": 15,
     "metadata": {},
     "output_type": "execute_result"
    }
   ],
   "source": [
    "a2.size"
   ]
  },
  {
   "cell_type": "code",
   "execution_count": 16,
   "id": "76bbbb82-5817-42e7-88c1-396a5e097562",
   "metadata": {},
   "outputs": [
    {
     "data": {
      "text/plain": [
       "2"
      ]
     },
     "execution_count": 16,
     "metadata": {},
     "output_type": "execute_result"
    }
   ],
   "source": [
    "a2.ndim"
   ]
  },
  {
   "cell_type": "code",
   "execution_count": 17,
   "id": "ea410694-1c9b-4c93-b168-c5613be0ec71",
   "metadata": {},
   "outputs": [],
   "source": [
    "import pandas as pd"
   ]
  },
  {
   "cell_type": "code",
   "execution_count": 18,
   "id": "055835b2-9fdc-4bf9-ab7a-fc762af3ef58",
   "metadata": {},
   "outputs": [],
   "source": [
    "df=pd.DataFrame(a2)"
   ]
  },
  {
   "cell_type": "code",
   "execution_count": 19,
   "id": "c1bb1da3-9f1f-431e-a859-6a1e8ac68c34",
   "metadata": {},
   "outputs": [
    {
     "data": {
      "text/html": [
       "<div>\n",
       "<style scoped>\n",
       "    .dataframe tbody tr th:only-of-type {\n",
       "        vertical-align: middle;\n",
       "    }\n",
       "\n",
       "    .dataframe tbody tr th {\n",
       "        vertical-align: top;\n",
       "    }\n",
       "\n",
       "    .dataframe thead th {\n",
       "        text-align: right;\n",
       "    }\n",
       "</style>\n",
       "<table border=\"1\" class=\"dataframe\">\n",
       "  <thead>\n",
       "    <tr style=\"text-align: right;\">\n",
       "      <th></th>\n",
       "      <th>0</th>\n",
       "      <th>1</th>\n",
       "      <th>2</th>\n",
       "    </tr>\n",
       "  </thead>\n",
       "  <tbody>\n",
       "    <tr>\n",
       "      <th>0</th>\n",
       "      <td>2</td>\n",
       "      <td>3</td>\n",
       "      <td>4</td>\n",
       "    </tr>\n",
       "    <tr>\n",
       "      <th>1</th>\n",
       "      <td>4</td>\n",
       "      <td>5</td>\n",
       "      <td>60</td>\n",
       "    </tr>\n",
       "  </tbody>\n",
       "</table>\n",
       "</div>"
      ],
      "text/plain": [
       "   0  1   2\n",
       "0  2  3   4\n",
       "1  4  5  60"
      ]
     },
     "execution_count": 19,
     "metadata": {},
     "output_type": "execute_result"
    }
   ],
   "source": [
    "df"
   ]
  },
  {
   "cell_type": "code",
   "execution_count": 23,
   "id": "b20179d1-ef15-4712-a9f5-9fe708159954",
   "metadata": {},
   "outputs": [
    {
     "data": {
      "text/plain": [
       "array([[[[3, 6, 7, 2, 7],\n",
       "         [3, 6, 0, 3, 3],\n",
       "         [6, 8, 4, 4, 8],\n",
       "         [6, 0, 1, 5, 3]],\n",
       "\n",
       "        [[2, 4, 5, 9, 9],\n",
       "         [1, 1, 4, 7, 1],\n",
       "         [3, 4, 4, 4, 7],\n",
       "         [4, 2, 2, 1, 7]],\n",
       "\n",
       "        [[1, 1, 4, 1, 2],\n",
       "         [0, 9, 6, 0, 0],\n",
       "         [3, 0, 7, 6, 9],\n",
       "         [0, 3, 5, 5, 9]]],\n",
       "\n",
       "\n",
       "       [[[2, 4, 7, 5, 1],\n",
       "         [8, 7, 9, 1, 9],\n",
       "         [3, 2, 6, 3, 7],\n",
       "         [8, 2, 7, 1, 6]],\n",
       "\n",
       "        [[5, 3, 4, 3, 8],\n",
       "         [3, 9, 1, 9, 4],\n",
       "         [6, 9, 0, 2, 1],\n",
       "         [6, 1, 3, 1, 5]],\n",
       "\n",
       "        [[4, 4, 4, 6, 2],\n",
       "         [4, 0, 6, 4, 5],\n",
       "         [6, 2, 6, 2, 7],\n",
       "         [0, 7, 7, 6, 1]]]], dtype=int32)"
      ]
     },
     "execution_count": 23,
     "metadata": {},
     "output_type": "execute_result"
    }
   ],
   "source": [
    "a4=np.random.randint(10,size=(2,3,4,5))\n",
    "a4"
   ]
  },
  {
   "cell_type": "code",
   "execution_count": 24,
   "id": "a5f149c8-658f-4976-a622-59623dc38f0f",
   "metadata": {},
   "outputs": [
    {
     "data": {
      "text/plain": [
       "4"
      ]
     },
     "execution_count": 24,
     "metadata": {},
     "output_type": "execute_result"
    }
   ],
   "source": [
    "a4.ndim"
   ]
  },
  {
   "cell_type": "code",
   "execution_count": 25,
   "id": "bf9b2c85-188a-4a4c-8fd1-81fc3f88d335",
   "metadata": {},
   "outputs": [
    {
     "data": {
      "text/plain": [
       "120"
      ]
     },
     "execution_count": 25,
     "metadata": {},
     "output_type": "execute_result"
    }
   ],
   "source": [
    "a4.size"
   ]
  },
  {
   "cell_type": "code",
   "execution_count": 27,
   "id": "5e9df86f-f7e8-43de-acca-b4c20a563acd",
   "metadata": {},
   "outputs": [
    {
     "data": {
      "text/plain": [
       "(2, 3, 4, 5)"
      ]
     },
     "execution_count": 27,
     "metadata": {},
     "output_type": "execute_result"
    }
   ],
   "source": [
    "a4.shape"
   ]
  },
  {
   "cell_type": "code",
   "execution_count": 28,
   "id": "84da4665-e693-419b-a596-dd133be59559",
   "metadata": {},
   "outputs": [
    {
     "data": {
      "text/plain": [
       "array([[[[3, 6],\n",
       "         [3, 6],\n",
       "         [6, 8],\n",
       "         [6, 0]],\n",
       "\n",
       "        [[2, 4],\n",
       "         [1, 1],\n",
       "         [3, 4],\n",
       "         [4, 2]],\n",
       "\n",
       "        [[1, 1],\n",
       "         [0, 9],\n",
       "         [3, 0],\n",
       "         [0, 3]]],\n",
       "\n",
       "\n",
       "       [[[2, 4],\n",
       "         [8, 7],\n",
       "         [3, 2],\n",
       "         [8, 2]],\n",
       "\n",
       "        [[5, 3],\n",
       "         [3, 9],\n",
       "         [6, 9],\n",
       "         [6, 1]],\n",
       "\n",
       "        [[4, 4],\n",
       "         [4, 0],\n",
       "         [6, 2],\n",
       "         [0, 7]]]], dtype=int32)"
      ]
     },
     "execution_count": 28,
     "metadata": {},
     "output_type": "execute_result"
    }
   ],
   "source": [
    "a4[:,:,:,:2]"
   ]
  },
  {
   "cell_type": "code",
   "execution_count": 29,
   "id": "bb053d0c-c2ba-4778-a1b9-10dd920a530d",
   "metadata": {},
   "outputs": [
    {
     "data": {
      "text/plain": [
       "array([1, 2, 3])"
      ]
     },
     "execution_count": 29,
     "metadata": {},
     "output_type": "execute_result"
    }
   ],
   "source": [
    "a1"
   ]
  },
  {
   "cell_type": "markdown",
   "id": "aa8d8699-d8b6-48be-b734-90190e7413b5",
   "metadata": {},
   "source": [
    "# Manipulation of Arrays"
   ]
  },
  {
   "cell_type": "markdown",
   "id": "cd18b262-e9a5-4fa6-8cb7-bb384aed2607",
   "metadata": {},
   "source": [
    "## Arithmetic"
   ]
  },
  {
   "cell_type": "code",
   "execution_count": 31,
   "id": "5ddcf958-02d5-46cc-8ab8-e9c9da5d6074",
   "metadata": {},
   "outputs": [],
   "source": [
    "ones= np.ones(3)"
   ]
  },
  {
   "cell_type": "code",
   "execution_count": 32,
   "id": "ae305436-952f-44da-9717-ca632e2b3af7",
   "metadata": {},
   "outputs": [
    {
     "data": {
      "text/plain": [
       "array([1., 1., 1.])"
      ]
     },
     "execution_count": 32,
     "metadata": {},
     "output_type": "execute_result"
    }
   ],
   "source": [
    "ones"
   ]
  },
  {
   "cell_type": "code",
   "execution_count": 33,
   "id": "a907e34b-ab76-436e-8e55-ef7fc1310e02",
   "metadata": {},
   "outputs": [
    {
     "data": {
      "text/plain": [
       "array([2., 3., 4.])"
      ]
     },
     "execution_count": 33,
     "metadata": {},
     "output_type": "execute_result"
    }
   ],
   "source": [
    "a1+ones"
   ]
  },
  {
   "cell_type": "markdown",
   "id": "4ab7526a-3f60-42ff-b2b3-384197972c1f",
   "metadata": {},
   "source": [
    "# Aggregation\n"
   ]
  },
  {
   "cell_type": "markdown",
   "id": "61848b03-6f16-46d4-8a15-9a3fcf73d328",
   "metadata": {},
   "source": [
    "%timeit is magic funtion"
   ]
  },
  {
   "cell_type": "code",
   "execution_count": 36,
   "id": "aa9f3d36-a8a2-4d99-8ef5-e1d7f3cb72a6",
   "metadata": {},
   "outputs": [
    {
     "data": {
      "text/plain": [
       "10000"
      ]
     },
     "execution_count": 36,
     "metadata": {},
     "output_type": "execute_result"
    }
   ],
   "source": [
    "a5=np.random.random(10000)\n",
    "a5.size"
   ]
  },
  {
   "cell_type": "code",
   "execution_count": 37,
   "id": "04397f20-29f1-45d8-828f-6b1d2b58f1f2",
   "metadata": {},
   "outputs": [
    {
     "name": "stdout",
     "output_type": "stream",
     "text": [
      "977 μs ± 31 μs per loop (mean ± std. dev. of 7 runs, 1,000 loops each)\n",
      "8.52 μs ± 90 ns per loop (mean ± std. dev. of 7 runs, 100,000 loops each)\n"
     ]
    }
   ],
   "source": [
    "%timeit sum(a5)\n",
    "%timeit np.sum(a5)"
   ]
  },
  {
   "cell_type": "code",
   "execution_count": null,
   "id": "5530540a-ecdd-423c-8ec6-78bdaa9d9c75",
   "metadata": {},
   "outputs": [],
   "source": []
  }
 ],
 "metadata": {
  "kernelspec": {
   "display_name": "Python 3 (ipykernel)",
   "language": "python",
   "name": "python3"
  },
  "language_info": {
   "codemirror_mode": {
    "name": "ipython",
    "version": 3
   },
   "file_extension": ".py",
   "mimetype": "text/x-python",
   "name": "python",
   "nbconvert_exporter": "python",
   "pygments_lexer": "ipython3",
   "version": "3.12.8"
  }
 },
 "nbformat": 4,
 "nbformat_minor": 5
}
