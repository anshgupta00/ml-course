{
 "cells": [
  {
   "cell_type": "markdown",
   "id": "8f5f7871-e32e-414d-b91c-a19076aa1412",
   "metadata": {},
   "source": [
    "## Turinging images into array\n",
    "\n",
    "<img src=\"images/panda.png\"/>"
   ]
  },
  {
   "cell_type": "code",
   "execution_count": 5,
   "id": "3bd5379b-fb48-4c5c-a23b-1e0261236e43",
   "metadata": {},
   "outputs": [],
   "source": [
    "import numpy as np\n",
    "import pandas as pd\n"
   ]
  },
  {
   "cell_type": "code",
   "execution_count": 12,
   "id": "5c9271bb-fed8-45a3-a013-35cd82b4f2ec",
   "metadata": {},
   "outputs": [],
   "source": [
    "import matplotlib.pyplot as plt\n",
    "image_array = plt.imread('images/panda.png')\n"
   ]
  },
  {
   "cell_type": "code",
   "execution_count": 14,
   "id": "9ccb1141-9754-43d6-b666-d90c1558082e",
   "metadata": {},
   "outputs": [
    {
     "data": {
      "text/plain": [
       "numpy.ndarray"
      ]
     },
     "execution_count": 14,
     "metadata": {},
     "output_type": "execute_result"
    }
   ],
   "source": [
    "type(image_array)"
   ]
  },
  {
   "cell_type": "code",
   "execution_count": null,
   "id": "4b13b447-6974-42f2-a948-a67c76228b79",
   "metadata": {},
   "outputs": [],
   "source": []
  }
 ],
 "metadata": {
  "kernelspec": {
   "display_name": "Python 3 (ipykernel)",
   "language": "python",
   "name": "python3"
  },
  "language_info": {
   "codemirror_mode": {
    "name": "ipython",
    "version": 3
   },
   "file_extension": ".py",
   "mimetype": "text/x-python",
   "name": "python",
   "nbconvert_exporter": "python",
   "pygments_lexer": "ipython3",
   "version": "3.12.8"
  }
 },
 "nbformat": 4,
 "nbformat_minor": 5
}
